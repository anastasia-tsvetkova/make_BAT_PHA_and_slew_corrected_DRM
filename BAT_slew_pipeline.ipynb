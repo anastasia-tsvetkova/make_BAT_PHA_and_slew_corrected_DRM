{
 "cells": [
  {
   "cell_type": "code",
   "execution_count": 1,
   "metadata": {},
   "outputs": [],
   "source": [
    "from astropy.io import fits\n",
    "import re, yaml\n",
    "from BAT_data_processing import BAT_data"
   ]
  },
  {
   "cell_type": "code",
   "execution_count": 2,
   "metadata": {
    "scrolled": false
   },
   "outputs": [],
   "source": [
    "path2soft = '/home/anastasia/work/Cross-calibration/'\n",
    "path2BATsoft = '/home/anastasia/work/Cross-calibration/BAT_software/'\n",
    "path2BATdata = '/mnt/win/work/Cross_calibration/BAT_data/'\n",
    "\n",
    "\n",
    "'''Getting the BAT burst info and extracting mission elapsed time'''\n",
    "\n",
    "MET = dict()\n",
    "long_trig = dict()\n",
    "\n",
    "with open(f'{path2BATsoft}/BAT_summary_general.txt', 'r') as f:\n",
    "    next(f)\n",
    "    for line in f:\n",
    "        GRBname, Trig_ID, Trig_time_met, Trig_time_UTC, RA_ground, DEC_ground, Image_position_err, Image_SNR, \\\n",
    "        T90, T90_err, T50, T50_err, Evt_start_sincetrig, Evt_stop_sincetrig, pcode, Trigger_method, \\\n",
    "        XRT_detection, comment = re.split(r'\\s+\\|\\s+', line)\n",
    "        if re.search('\\D+', Trig_ID): continue\n",
    "\n",
    "        GRBname = GRBname.replace('GRB', '')\n",
    "\n",
    "        if len(Trig_ID) == 6: Trig_ID += '000'\n",
    "        elif len(Trig_ID) < 6: print('GRB', GRBname, Trig_ID, 'is too short!')\n",
    "\n",
    "        long_trig[GRBname] = '{:011d}'.format(int(Trig_ID))\n",
    "        MET[GRBname] = Trig_time_met\n",
    "        \n",
    "        \n",
    "'''Extracting difference in trigger times'''\n",
    "\n",
    "dT0 = dict()\n",
    "file = f'{path2soft}delta_trig_time.txt'\n",
    "\n",
    "with open(file, 'r') as f:\n",
    "    next(f)\n",
    "    for line in f:\n",
    "        ID, Name, dt_BAT, dt_GBM = line.split()\n",
    "        dT0[Name] = float(dt_BAT)\n",
    "\n",
    "        \n",
    "'''Extracting light propagation time'''\n",
    "\n",
    "ToF = dict()\n",
    "\n",
    "with open(f'{path2soft}KW_software/light_propagation_times.dat') as f:\n",
    "    next(f)\n",
    "    for line in f:\n",
    "        ID, GRBname, swift, fermi = line.split()\n",
    "        ToF[GRBname] = float(swift)\n",
    "\n",
    "        "
   ]
  },
  {
   "cell_type": "code",
   "execution_count": 3,
   "metadata": {},
   "outputs": [],
   "source": [
    "'''Extracting Swift slew times'''\n",
    "\n",
    "slew_time_dict = dict()\n",
    "\n",
    "with open(path2BATsoft+'slew_times.txt', 'w') as outfile:\n",
    "    with open(path2soft+'List_of_spectra_for_fitting.txt') as f:\n",
    "        next(f)\n",
    "        print('ID', 'GRB', 'PreSlew', 'InSlew', 'PostSlew', file=outfile)\n",
    "\n",
    "        for line in f:\n",
    "            if re.match('#', line): continue\n",
    "            ID, name, spectra, bg_spectra = line.split('\\t')\n",
    "\n",
    "            print(ID, name, end=' ', file=outfile)\n",
    "\n",
    "            slew_time_list = list()\n",
    "            \n",
    "            for suffix in 'preslew', 'inslew', 'postslew':\n",
    "                fits_filename = path2BATdata + f'{name}/{long_trig[name]}-results/gti/sw{long_trig[name]}b_grb_{suffix}.gti'\n",
    "                \n",
    "                with fits.open(fits_filename) as hdul:\n",
    "                    ti = hdul[1].data[0][0] - hdul[0].header['TRIGTIME'] - dT0[name] - ToF[name]\n",
    "                    tf = hdul[1].data[0][1] - hdul[0].header['TRIGTIME'] - dT0[name] - ToF[name]\n",
    "                    slew_time_list.append((ti, tf))\n",
    "                                        \n",
    "                    print(f'{ti:.3f}', f'{tf:.3f}', end=' ', file=outfile)\n",
    "                    \n",
    "            print(file=outfile)\n",
    "\n",
    "            slew_time_dict.update({name: slew_time_list})\n"
   ]
  },
  {
   "cell_type": "code",
   "execution_count": 4,
   "metadata": {},
   "outputs": [],
   "source": [
    "# name = '180402A' # short GRB \n",
    "# ID = '4630'\n",
    "spectra = dict()\n",
    "with open(path2soft+'KW_software/acc_times.yml', 'r') as f:\n",
    "    data = yaml.load(f, Loader=yaml.FullLoader)\n",
    "    \n",
    "    for entry in data:\n",
    "        spectra[entry['GCN_name']] = list()\n",
    "\n",
    "        for spec in entry['fit_sp']:\n",
    "            spectra[entry['GCN_name']].append(spec)\n",
    "        \n",
    "# spectra"
   ]
  },
  {
   "cell_type": "code",
   "execution_count": 5,
   "metadata": {},
   "outputs": [
    {
     "name": "stdout",
     "output_type": "stream",
     "text": [
      "Burst name: 180402A\n",
      "Spectrum: 1_4 lasts from 0.0 s to 0.256 s\n",
      "Long BAT trigger ID: 00821103000\n",
      "Swift Mission Elapsed Time: 544355120.0 s\n",
      "Time of light propagation between KW and Swift: -0.956 s\n",
      "Difference in KW and BAT trigger times: 1.074 s\n",
      "Time interval when the spacecraft slews: from 9.583 s to 63.383 s\n",
      "Path to the BAT data folder: /mnt/win/work/Cross_calibration/BAT_data/\n",
      "Folder where the new BAT fits-files will be collected: new_spectra\n"
     ]
    }
   ],
   "source": [
    "name = '180402A'\n",
    "\n",
    "test_data = BAT_data(GRB_name=name, trig_ID=long_trig[name], dT0=dT0[name], MET=MET[name], ToF=ToF[name], \\\n",
    "                     slew_interval=list(slew_time_dict[name][1]), sp_ID=list(spectra[name][0])[0], \\\n",
    "                     sp_interval=list(spectra[name][0].values())[0], path2BATdata=path2BATdata, \\\n",
    "                     new_folder='new_spectra', verbose=True)"
   ]
  },
  {
   "cell_type": "code",
   "execution_count": 6,
   "metadata": {
    "scrolled": false
   },
   "outputs": [
    {
     "name": "stdout",
     "output_type": "stream",
     "text": [
      "\n",
      "        Calculating DRM weights and running a slew-corected DRM\n",
      "        \n",
      "Time intervals for aux DRMs: [0.0, 0.256]\n",
      "Weights of the aux DRMs: 1.0\n",
      "\n",
      "        Making a slew-corrected DRM\n",
      "        \n",
      "batbinevt infile=/mnt/win/work/Cross_calibration/BAT_data//180402A/00821103000-results/events/sw00821103000b_all.evt outfile=/mnt/win/work/Cross_calibration/BAT_data//180402A/00821103000-results/new_spectra/sw00821103000b_1_aux.pha outtype=PHA timedel=0 timebinalg=u             energybins=CALDB:80 tstart=544355120.118 tstop=544355120.3740001 outunits=RATE detmask=/mnt/win/work/Cross_calibration/BAT_data//180402A/00821103000-results/auxil/sw00821103000b_qmap.fits             clobber=yes ecol=ENERGY weighted=YES\n",
      "batupdatephakw infile=/mnt/win/work/Cross_calibration/BAT_data//180402A/00821103000-results/new_spectra/sw00821103000b_1_aux.pha auxfile=/mnt/win/work/Cross_calibration/BAT_data//180402A/00821103000-results/auxil/sw00821103000b_all.evaux\n",
      "batdrmgen infile=/mnt/win/work/Cross_calibration/BAT_data//180402A/00821103000-results/new_spectra/sw00821103000b_1_aux.pha outfile=/mnt/win/work/Cross_calibration/BAT_data//180402A/00821103000-results/new_spectra/sw00821103000b_1_aux.rsp hkfile=NONE clobber=yes\n",
      "addrmf /mnt/win/work/Cross_calibration/BAT_data//180402A/00821103000-results/new_spectra/sw00821103000b_1_aux.rsp 1.0 rmffile=/mnt/win/work/Cross_calibration/BAT_data//180402A/00821103000-results/new_spectra/BAT_00821103000_sp1_4_averaged.rmf\n"
     ]
    }
   ],
   "source": [
    "test_data.make_rsp()"
   ]
  },
  {
   "cell_type": "code",
   "execution_count": 7,
   "metadata": {},
   "outputs": [
    {
     "name": "stdout",
     "output_type": "stream",
     "text": [
      "\n",
      "        Making a pha file\n",
      "        \n",
      "batbinevt infile=/mnt/win/work/Cross_calibration/BAT_data//180402A/00821103000-results/events/sw00821103000b_all.evt outfile=/mnt/win/work/Cross_calibration/BAT_data//180402A/00821103000-results/new_spectra/BAT_00821103000_sp1_4.pha outtype=PHA timedel=0.0 timebinalg=u         tstart=544355120.118 tstop=544355120.3740001 energybins=CALDB:80 outunits=RATE detmask=/mnt/win/work/Cross_calibration/BAT_data//180402A/00821103000-results/auxil/sw00821103000b_qmap.fits clobber=YES         ecol=ENERGY weighted=YES\n",
      "batupdatephakw infile=/mnt/win/work/Cross_calibration/BAT_data//180402A/00821103000-results/new_spectra/BAT_00821103000_sp1_4.pha auxfile=/mnt/win/work/Cross_calibration/BAT_data//180402A/00821103000-results/auxil/sw00821103000b_all.evaux\n",
      "batphasyserr infile=/mnt/win/work/Cross_calibration/BAT_data//180402A/00821103000-results/new_spectra/BAT_00821103000_sp1_4.pha syserrfile=CALDB\n"
     ]
    }
   ],
   "source": [
    "test_data.make_pha()"
   ]
  }
 ],
 "metadata": {
  "kernelspec": {
   "display_name": "Python 3",
   "language": "python",
   "name": "python3"
  },
  "language_info": {
   "codemirror_mode": {
    "name": "ipython",
    "version": 3
   },
   "file_extension": ".py",
   "mimetype": "text/x-python",
   "name": "python",
   "nbconvert_exporter": "python",
   "pygments_lexer": "ipython3",
   "version": "3.8.5"
  }
 },
 "nbformat": 4,
 "nbformat_minor": 4
}
